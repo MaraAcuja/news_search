{
 "cells": [
  {
   "cell_type": "code",
   "execution_count": 1,
   "id": "ee6c4595-21c4-4e69-8806-8fc14eb71d0a",
   "metadata": {},
   "outputs": [
    {
     "name": "stderr",
     "output_type": "stream",
     "text": [
      "[nltk_data] Downloading package stopwords to /home/flora/nltk_data...\n",
      "[nltk_data]   Package stopwords is already up-to-date!\n"
     ]
    }
   ],
   "source": [
    "# imports\n",
    "\n",
    "#!pip install watermark\n",
    "import pandas as pd\n",
    "import nltk\n",
    "nltk.download('stopwords')\n",
    "from nltk.corpus import stopwords\n",
    "from sklearn.feature_extraction.text import CountVectorizer\n",
    "from sklearn.feature_extraction.text import TfidfTransformer, TfidfVectorizer\n",
    "from sklearn.metrics.pairwise import cosine_similarity\n",
    "import numpy as np\n",
    "import itertools"
   ]
  },
  {
   "cell_type": "code",
   "execution_count": 2,
   "id": "29fc94dd-9683-456d-923d-fba35d65be48",
   "metadata": {},
   "outputs": [],
   "source": [
    "# get stop words\n",
    "stop_words = stopwords.words('german')"
   ]
  },
  {
   "cell_type": "code",
   "execution_count": 3,
   "id": "f22f87db-8b2d-47fd-9fe5-846c6d14229a",
   "metadata": {},
   "outputs": [],
   "source": [
    "filename1 = \"processed_articles_2020-01-01_2022-06-30_1.csv\"\n",
    "filename2 = \"processed_articles_2020-01-01_2022-06-30_2.csv\"\n",
    "articles1 = pd.read_csv(filename1)\n",
    "articles2 = pd.read_csv(filename2)\n",
    "articles = pd.concat([articles1, articles2], ignore_index=True).drop(columns=['Unnamed: 0', 'Unnamed: 0.1'])"
   ]
  },
  {
   "cell_type": "code",
   "execution_count": 4,
   "id": "359c4f82-bcaf-4596-b71e-a7e5538f71d7",
   "metadata": {},
   "outputs": [
    {
     "data": {
      "text/plain": [
       "<11258x6619 sparse matrix of type '<class 'numpy.float64'>'\n",
       "\twith 2020967 stored elements in Compressed Sparse Row format>"
      ]
     },
     "execution_count": 4,
     "metadata": {},
     "output_type": "execute_result"
    }
   ],
   "source": [
    "cvec = TfidfVectorizer(analyzer='word', ngram_range=(1, 1), min_df = 0.005, stop_words=stop_words)\n",
    "# Calculate all the n-grams found in all documents\n",
    "cvec.fit(articles['content'])\n",
    "tfidf_matrix = cvec.fit_transform(articles['content'])\n",
    "list(itertools.islice(cvec.vocabulary_.items(), 20))\n",
    "tfidf_matrix"
   ]
  },
  {
   "cell_type": "code",
   "execution_count": 5,
   "id": "733ea6b5-e445-47ad-ba18-052d29131fbb",
   "metadata": {},
   "outputs": [],
   "source": [
    "phrase = \"Eintracht Frankfurt wird den Europapokal gewinnen\""
   ]
  },
  {
   "cell_type": "code",
   "execution_count": 6,
   "id": "e0c265e1-9d51-434e-8ec1-a600be0d689b",
   "metadata": {},
   "outputs": [],
   "source": [
    "matrix2 = cvec.transform([phrase])"
   ]
  },
  {
   "cell_type": "code",
   "execution_count": 7,
   "id": "06224d49-e874-4bae-a90e-185a698e6fbe",
   "metadata": {},
   "outputs": [
    {
     "data": {
      "text/html": [
       "<div>\n",
       "<style scoped>\n",
       "    .dataframe tbody tr th:only-of-type {\n",
       "        vertical-align: middle;\n",
       "    }\n",
       "\n",
       "    .dataframe tbody tr th {\n",
       "        vertical-align: top;\n",
       "    }\n",
       "\n",
       "    .dataframe thead th {\n",
       "        text-align: right;\n",
       "    }\n",
       "</style>\n",
       "<table border=\"1\" class=\"dataframe\">\n",
       "  <thead>\n",
       "    <tr style=\"text-align: right;\">\n",
       "      <th></th>\n",
       "      <th>score</th>\n",
       "      <th>title</th>\n",
       "      <th>url</th>\n",
       "      <th>content</th>\n",
       "      <th>time</th>\n",
       "    </tr>\n",
       "  </thead>\n",
       "  <tbody>\n",
       "    <tr>\n",
       "      <th>11063</th>\n",
       "      <td>0.545115</td>\n",
       "      <td>Eintracht Frankfurt: Ein Klub verblüfft Fussba...</td>\n",
       "      <td>https://www.nzz.ch/sport/eintracht-frankfurt-f...</td>\n",
       "      <td>wissen nie kommen Eintracht Frankfurt faszinie...</td>\n",
       "      <td>2022-05-19 07:00:00</td>\n",
       "    </tr>\n",
       "    <tr>\n",
       "      <th>11062</th>\n",
       "      <td>0.532895</td>\n",
       "      <td>Eintracht Frankfurt: Ein Klub will zurück ins ...</td>\n",
       "      <td>https://www.nzz.ch/sport/ein-trainer-und-seine...</td>\n",
       "      <td>Trainer Mission Oliver Glasner Eintracht Frank...</td>\n",
       "      <td>2022-05-19 07:00:00</td>\n",
       "    </tr>\n",
       "    <tr>\n",
       "      <th>2177</th>\n",
       "      <td>0.490228</td>\n",
       "      <td>Bundesliga: Früherer Eintracht-Torjäger Bernd ...</td>\n",
       "      <td>https://www.faz.net/aktuell/sport/rhein-main-s...</td>\n",
       "      <td>Mann Phänomen egal Training Spiel Ball Bernd N...</td>\n",
       "      <td>2021-10-27 07:00:00</td>\n",
       "    </tr>\n",
       "    <tr>\n",
       "      <th>1305</th>\n",
       "      <td>0.485790</td>\n",
       "      <td>Eintracht Frankfurt: Sportdirektor Bruno Hübne...</td>\n",
       "      <td>https://www.faz.net/aktuell/sport/fussball/bun...</td>\n",
       "      <td>Bruno Hübner Auslaufen Vertrag Saisonende Dien...</td>\n",
       "      <td>2021-02-17 08:00:00</td>\n",
       "    </tr>\n",
       "    <tr>\n",
       "      <th>11061</th>\n",
       "      <td>0.474362</td>\n",
       "      <td>Wegen Siegesfeier von Eintracht Frankfurt: Hoc...</td>\n",
       "      <td>https://www.nzz.ch/international/wegen-der-sie...</td>\n",
       "      <td>wegen Siegesfeier Eintracht Frankfurt Hochzeit...</td>\n",
       "      <td>2022-05-19 07:00:00</td>\n",
       "    </tr>\n",
       "    <tr>\n",
       "      <th>...</th>\n",
       "      <td>...</td>\n",
       "      <td>...</td>\n",
       "      <td>...</td>\n",
       "      <td>...</td>\n",
       "      <td>...</td>\n",
       "    </tr>\n",
       "    <tr>\n",
       "      <th>4149</th>\n",
       "      <td>0.000000</td>\n",
       "      <td>Nordkorea nimmt nicht an Olympischen Spielen teil</td>\n",
       "      <td>https://www.dw.com/de/nordkorea-nimmt-nicht-an...</td>\n",
       "      <td>Nordkorea Teilnahme olympisch Sommerspiel Toki...</td>\n",
       "      <td>2021-04-06 07:00:00</td>\n",
       "    </tr>\n",
       "    <tr>\n",
       "      <th>4150</th>\n",
       "      <td>0.000000</td>\n",
       "      <td>WWF: EU ist einer der größten Waldzerstörer</td>\n",
       "      <td>https://www.dw.com/de/wwf-eu-ist-einer-der-gr%...</td>\n",
       "      <td>Soja rindfleisch Kaffee Kakao Kunde europäisch...</td>\n",
       "      <td>2021-04-13 07:00:00</td>\n",
       "    </tr>\n",
       "    <tr>\n",
       "      <th>4151</th>\n",
       "      <td>0.000000</td>\n",
       "      <td>Politiker: Nawalny wird \"gezielt gefoltert\"</td>\n",
       "      <td>https://www.dw.com/de/politiker-nawalny-wird-g...</td>\n",
       "      <td>Brief russisch Oppositionspolitiker Alexej Naw...</td>\n",
       "      <td>2021-04-10 07:00:00</td>\n",
       "    </tr>\n",
       "    <tr>\n",
       "      <th>4152</th>\n",
       "      <td>0.000000</td>\n",
       "      <td>Corona überrollt die Menschenrechte</td>\n",
       "      <td>https://www.dw.com/de/corona-%C3%BCberrollt-di...</td>\n",
       "      <td>Menschenrechtslage Coronapandemie rund Globus ...</td>\n",
       "      <td>2021-04-06 07:00:00</td>\n",
       "    </tr>\n",
       "    <tr>\n",
       "      <th>11257</th>\n",
       "      <td>0.000000</td>\n",
       "      <td>Die Kommission gibt Kiew grünes Licht für den ...</td>\n",
       "      <td>https://www.nzz.ch/international/unterstuetzun...</td>\n",
       "      <td>Unterstützung europäisch Traum Kommission gebe...</td>\n",
       "      <td>2022-06-17 07:00:00</td>\n",
       "    </tr>\n",
       "  </tbody>\n",
       "</table>\n",
       "<p>11258 rows × 5 columns</p>\n",
       "</div>"
      ],
      "text/plain": [
       "          score                                              title  \\\n",
       "11063  0.545115  Eintracht Frankfurt: Ein Klub verblüfft Fussba...   \n",
       "11062  0.532895  Eintracht Frankfurt: Ein Klub will zurück ins ...   \n",
       "2177   0.490228  Bundesliga: Früherer Eintracht-Torjäger Bernd ...   \n",
       "1305   0.485790  Eintracht Frankfurt: Sportdirektor Bruno Hübne...   \n",
       "11061  0.474362  Wegen Siegesfeier von Eintracht Frankfurt: Hoc...   \n",
       "...         ...                                                ...   \n",
       "4149   0.000000  Nordkorea nimmt nicht an Olympischen Spielen teil   \n",
       "4150   0.000000        WWF: EU ist einer der größten Waldzerstörer   \n",
       "4151   0.000000        Politiker: Nawalny wird \"gezielt gefoltert\"   \n",
       "4152   0.000000                Corona überrollt die Menschenrechte   \n",
       "11257  0.000000  Die Kommission gibt Kiew grünes Licht für den ...   \n",
       "\n",
       "                                                     url  \\\n",
       "11063  https://www.nzz.ch/sport/eintracht-frankfurt-f...   \n",
       "11062  https://www.nzz.ch/sport/ein-trainer-und-seine...   \n",
       "2177   https://www.faz.net/aktuell/sport/rhein-main-s...   \n",
       "1305   https://www.faz.net/aktuell/sport/fussball/bun...   \n",
       "11061  https://www.nzz.ch/international/wegen-der-sie...   \n",
       "...                                                  ...   \n",
       "4149   https://www.dw.com/de/nordkorea-nimmt-nicht-an...   \n",
       "4150   https://www.dw.com/de/wwf-eu-ist-einer-der-gr%...   \n",
       "4151   https://www.dw.com/de/politiker-nawalny-wird-g...   \n",
       "4152   https://www.dw.com/de/corona-%C3%BCberrollt-di...   \n",
       "11257  https://www.nzz.ch/international/unterstuetzun...   \n",
       "\n",
       "                                                 content                 time  \n",
       "11063  wissen nie kommen Eintracht Frankfurt faszinie...  2022-05-19 07:00:00  \n",
       "11062  Trainer Mission Oliver Glasner Eintracht Frank...  2022-05-19 07:00:00  \n",
       "2177   Mann Phänomen egal Training Spiel Ball Bernd N...  2021-10-27 07:00:00  \n",
       "1305   Bruno Hübner Auslaufen Vertrag Saisonende Dien...  2021-02-17 08:00:00  \n",
       "11061  wegen Siegesfeier Eintracht Frankfurt Hochzeit...  2022-05-19 07:00:00  \n",
       "...                                                  ...                  ...  \n",
       "4149   Nordkorea Teilnahme olympisch Sommerspiel Toki...  2021-04-06 07:00:00  \n",
       "4150   Soja rindfleisch Kaffee Kakao Kunde europäisch...  2021-04-13 07:00:00  \n",
       "4151   Brief russisch Oppositionspolitiker Alexej Naw...  2021-04-10 07:00:00  \n",
       "4152   Menschenrechtslage Coronapandemie rund Globus ...  2021-04-06 07:00:00  \n",
       "11257  Unterstützung europäisch Traum Kommission gebe...  2022-06-17 07:00:00  \n",
       "\n",
       "[11258 rows x 5 columns]"
      ]
     },
     "execution_count": 7,
     "metadata": {},
     "output_type": "execute_result"
    }
   ],
   "source": [
    "similarity = pd.DataFrame(cosine_similarity(tfidf_matrix, matrix2), columns=['score'])\n",
    "similarity = similarity.merge(articles, how='outer', left_index=True, right_index=True)\n",
    "similarity.sort_values(by=['score'], ascending=False)"
   ]
  },
  {
   "cell_type": "code",
   "execution_count": 8,
   "id": "67121633-f3d6-478a-a2de-597c9e65fe99",
   "metadata": {},
   "outputs": [
    {
     "name": "stdout",
     "output_type": "stream",
     "text": [
      "https://www.nzz.ch/sport/eintracht-frankfurt-fasziniert-wegen-der-dramen-nicht-wegen-der-titel-ld.1684467\n",
      "https://www.nzz.ch/sport/ein-trainer-und-seine-mission-oliver-glasner-will-eintracht-frankfurt-in-das-herz-des-europaeischen-fussballs-fuehren-ld.1684903\n",
      "https://www.faz.net/aktuell/sport/rhein-main-sport/eintracht-frankfurt/bundesliga-frueherer-eintracht-torjaeger-bernd-nickel-ist-tot-17605227.html\n",
      "https://www.faz.net/aktuell/sport/fussball/bundesliga/eintracht-frankfurt-sportdirektor-bruno-huebner-hoert-auf-17202930.html\n",
      "https://www.nzz.ch/international/wegen-der-siegesfeier-von-eintracht-frankfurt-alle-hochzeiten-abgesagt-ld.1684869\n"
     ]
    }
   ],
   "source": [
    "for i in range(5):\n",
    "    print(similarity.sort_values(by=['score'], ascending=False).iloc[i,2])"
   ]
  },
  {
   "cell_type": "code",
   "execution_count": null,
   "id": "d4d19b88-2130-4222-845c-4872e87bc614",
   "metadata": {},
   "outputs": [],
   "source": []
  }
 ],
 "metadata": {
  "kernelspec": {
   "display_name": "Python 3",
   "language": "python",
   "name": "python3"
  },
  "language_info": {
   "codemirror_mode": {
    "name": "ipython",
    "version": 3
   },
   "file_extension": ".py",
   "mimetype": "text/x-python",
   "name": "python",
   "nbconvert_exporter": "python",
   "pygments_lexer": "ipython3",
   "version": "3.8.8"
  }
 },
 "nbformat": 4,
 "nbformat_minor": 5
}
